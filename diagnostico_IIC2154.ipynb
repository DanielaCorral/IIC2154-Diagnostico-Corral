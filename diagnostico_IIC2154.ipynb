{
  "nbformat": 4,
  "nbformat_minor": 0,
  "metadata": {
    "colab": {
      "name": "diagnostico-IIC2154.ipynb",
      "provenance": []
    },
    "kernelspec": {
      "name": "python3",
      "display_name": "Python 3"
    },
    "language_info": {
      "name": "python"
    }
  },
  "cells": [
    {
      "cell_type": "markdown",
      "source": [
        "# **Tarea diagnóstica IIC2154 2022-1**\n",
        "##### **Nombre: Daniela Corral Gardella** \n",
        "##### **Sección: 1** "
      ],
      "metadata": {
        "id": "6McsSh1wF3r6"
      }
    },
    {
      "cell_type": "markdown",
      "source": [
        "#### Lectura de archivos"
      ],
      "metadata": {
        "id": "eqT6_IgVHeDG"
      }
    },
    {
      "cell_type": "code",
      "source": [
        "import json\n",
        "import pandas as pd"
      ],
      "metadata": {
        "id": "rzfhy2Lp0oy6"
      },
      "execution_count": 1,
      "outputs": []
    },
    {
      "cell_type": "code",
      "source": [
        "!wget -O tweets.json https://www.dropbox.com/s/ghyvp86w05n52r1/farmers-protest-tweets-2021-03-5.json?dl=0"
      ],
      "metadata": {
        "colab": {
          "base_uri": "https://localhost:8080/"
        },
        "id": "eryO7sQp-2Vj",
        "outputId": "41dba45e-8962-48e5-fe99-fcf5bc3f5cfd"
      },
      "execution_count": 2,
      "outputs": [
        {
          "output_type": "stream",
          "name": "stdout",
          "text": [
            "--2022-03-26 21:14:22--  https://www.dropbox.com/s/ghyvp86w05n52r1/farmers-protest-tweets-2021-03-5.json?dl=0\n",
            "Resolving www.dropbox.com (www.dropbox.com)... 162.125.4.18, 2620:100:6034:18::a27d:5412\n",
            "Connecting to www.dropbox.com (www.dropbox.com)|162.125.4.18|:443... connected.\n",
            "HTTP request sent, awaiting response... 301 Moved Permanently\n",
            "Location: /s/raw/ghyvp86w05n52r1/farmers-protest-tweets-2021-03-5.json [following]\n",
            "--2022-03-26 21:14:23--  https://www.dropbox.com/s/raw/ghyvp86w05n52r1/farmers-protest-tweets-2021-03-5.json\n",
            "Reusing existing connection to www.dropbox.com:443.\n",
            "HTTP request sent, awaiting response... 302 Found\n",
            "Location: https://ucc24d8001335da6bbcc59ece5dc.dl.dropboxusercontent.com/cd/0/inline/BiNSwx4d1D2Ud3OzIIA-yZwPIvF8vQeCg-M5in9rN58TrrGWRFTIC2k6N5dtJaJHqJPfeaw__TAtADfGbXW3estJ4od58zxBNnb0kEsgKSEOT-i1y1o5bSeY--Q5Sb5LEU3JxgYuZtCyPxNnq-WkMKPIaFLiD6uMG_5zQtDWTxzPiQ/file# [following]\n",
            "--2022-03-26 21:14:23--  https://ucc24d8001335da6bbcc59ece5dc.dl.dropboxusercontent.com/cd/0/inline/BiNSwx4d1D2Ud3OzIIA-yZwPIvF8vQeCg-M5in9rN58TrrGWRFTIC2k6N5dtJaJHqJPfeaw__TAtADfGbXW3estJ4od58zxBNnb0kEsgKSEOT-i1y1o5bSeY--Q5Sb5LEU3JxgYuZtCyPxNnq-WkMKPIaFLiD6uMG_5zQtDWTxzPiQ/file\n",
            "Resolving ucc24d8001335da6bbcc59ece5dc.dl.dropboxusercontent.com (ucc24d8001335da6bbcc59ece5dc.dl.dropboxusercontent.com)... 162.125.6.15, 2620:100:6019:15::a27d:40f\n",
            "Connecting to ucc24d8001335da6bbcc59ece5dc.dl.dropboxusercontent.com (ucc24d8001335da6bbcc59ece5dc.dl.dropboxusercontent.com)|162.125.6.15|:443... connected.\n",
            "HTTP request sent, awaiting response... 200 OK\n",
            "Length: 1350840155 (1.3G) [text/plain]\n",
            "Saving to: ‘tweets.json’\n",
            "\n",
            "tweets.json         100%[===================>]   1.26G   155MB/s    in 8.6s    \n",
            "\n",
            "2022-03-26 21:14:32 (150 MB/s) - ‘tweets.json’ saved [1350840155/1350840155]\n",
            "\n"
          ]
        }
      ]
    },
    {
      "cell_type": "code",
      "source": [
        "tweets = pd.read_json('tweets.json', lines=True)"
      ],
      "metadata": {
        "id": "4zEK0_-LEG3g"
      },
      "execution_count": 3,
      "outputs": []
    },
    {
      "cell_type": "code",
      "source": [
        "tweets.head(5)"
      ],
      "metadata": {
        "colab": {
          "base_uri": "https://localhost:8080/",
          "height": 473
        },
        "id": "TLD1EZxZFV3U",
        "outputId": "c40d4434-66fb-4a4c-a8ed-8270b7bdfd48"
      },
      "execution_count": 4,
      "outputs": [
        {
          "output_type": "execute_result",
          "data": {
            "text/plain": [
              "                                                 url  \\\n",
              "0  https://twitter.com/ShashiRajbhar6/status/1376...   \n",
              "1  https://twitter.com/kaursuk06272818/status/137...   \n",
              "2  https://twitter.com/kaursuk06272818/status/137...   \n",
              "3  https://twitter.com/SukhdevSingh_/status/13767...   \n",
              "4  https://twitter.com/Davidmu66668113/status/137...   \n",
              "\n",
              "                       date  \\\n",
              "0 2021-03-30 03:33:46+00:00   \n",
              "1 2021-03-30 03:33:23+00:00   \n",
              "2 2021-03-30 03:31:00+00:00   \n",
              "3 2021-03-30 03:30:45+00:00   \n",
              "4 2021-03-30 03:30:30+00:00   \n",
              "\n",
              "                                             content  \\\n",
              "0                       Support 👇\\n\\n#FarmersProtest   \n",
              "1  Supporting farmers means supporting our countr...   \n",
              "2  Support farmers if you are related to food #St...   \n",
              "3  #StopHateAgainstFarmers support #FarmersProtes...   \n",
              "4  You hate farmers I hate you, \\nif you love the...   \n",
              "\n",
              "                                     renderedContent                   id  \\\n",
              "0                       Support 👇\\n\\n#FarmersProtest  1376739399593910273   \n",
              "1  Supporting farmers means supporting our countr...  1376739306287427584   \n",
              "2  Support farmers if you are related to food #St...  1376738704128020488   \n",
              "3  #StopHateAgainstFarmers support #FarmersProtes...  1376738640542400518   \n",
              "4  You hate farmers I hate you, \\nif you love the...  1376738579171344386   \n",
              "\n",
              "                                                user outlinks tcooutlinks  \\\n",
              "0  {'username': 'ShashiRajbhar6', 'displayname': ...       []          []   \n",
              "1  {'username': 'kaursuk06272818', 'displayname':...       []          []   \n",
              "2  {'username': 'kaursuk06272818', 'displayname':...       []          []   \n",
              "3  {'username': 'SukhdevSingh_', 'displayname': '...       []          []   \n",
              "4  {'username': 'Davidmu66668113', 'displayname':...       []          []   \n",
              "\n",
              "   replyCount  retweetCount  ...  quoteCount       conversationId  lang  \\\n",
              "0           0             0  ...           0  1376739399593910273    en   \n",
              "1           0             0  ...           0  1376739306287427584    en   \n",
              "2           0             0  ...           0  1376738704128020488    en   \n",
              "3           0             1  ...           0  1376738640542400518    en   \n",
              "4           0             0  ...           0  1376738579171344386    en   \n",
              "\n",
              "                                              source  \\\n",
              "0  <a href=\"http://twitter.com/download/android\" ...   \n",
              "1  <a href=\"http://twitter.com/download/android\" ...   \n",
              "2  <a href=\"http://twitter.com/download/android\" ...   \n",
              "3  <a href=\"http://twitter.com/download/android\" ...   \n",
              "4  <a href=\"http://twitter.com/download/android\" ...   \n",
              "\n",
              "                             sourceUrl          sourceLabel  \\\n",
              "0  http://twitter.com/download/android  Twitter for Android   \n",
              "1  http://twitter.com/download/android  Twitter for Android   \n",
              "2  http://twitter.com/download/android  Twitter for Android   \n",
              "3  http://twitter.com/download/android  Twitter for Android   \n",
              "4  http://twitter.com/download/android  Twitter for Android   \n",
              "\n",
              "                                               media retweetedTweet  \\\n",
              "0                                               None            NaN   \n",
              "1  [{'previewUrl': 'https://pbs.twimg.com/media/E...            NaN   \n",
              "2  [{'previewUrl': 'https://pbs.twimg.com/media/E...            NaN   \n",
              "3                                               None            NaN   \n",
              "4                                               None            NaN   \n",
              "\n",
              "   quotedTweet mentionedUsers  \n",
              "0         None           None  \n",
              "1         None           None  \n",
              "2         None           None  \n",
              "3         None           None  \n",
              "4         None           None  \n",
              "\n",
              "[5 rows x 21 columns]"
            ],
            "text/html": [
              "\n",
              "  <div id=\"df-7a2d5875-8697-489b-ac94-6ca77f7944ee\">\n",
              "    <div class=\"colab-df-container\">\n",
              "      <div>\n",
              "<style scoped>\n",
              "    .dataframe tbody tr th:only-of-type {\n",
              "        vertical-align: middle;\n",
              "    }\n",
              "\n",
              "    .dataframe tbody tr th {\n",
              "        vertical-align: top;\n",
              "    }\n",
              "\n",
              "    .dataframe thead th {\n",
              "        text-align: right;\n",
              "    }\n",
              "</style>\n",
              "<table border=\"1\" class=\"dataframe\">\n",
              "  <thead>\n",
              "    <tr style=\"text-align: right;\">\n",
              "      <th></th>\n",
              "      <th>url</th>\n",
              "      <th>date</th>\n",
              "      <th>content</th>\n",
              "      <th>renderedContent</th>\n",
              "      <th>id</th>\n",
              "      <th>user</th>\n",
              "      <th>outlinks</th>\n",
              "      <th>tcooutlinks</th>\n",
              "      <th>replyCount</th>\n",
              "      <th>retweetCount</th>\n",
              "      <th>...</th>\n",
              "      <th>quoteCount</th>\n",
              "      <th>conversationId</th>\n",
              "      <th>lang</th>\n",
              "      <th>source</th>\n",
              "      <th>sourceUrl</th>\n",
              "      <th>sourceLabel</th>\n",
              "      <th>media</th>\n",
              "      <th>retweetedTweet</th>\n",
              "      <th>quotedTweet</th>\n",
              "      <th>mentionedUsers</th>\n",
              "    </tr>\n",
              "  </thead>\n",
              "  <tbody>\n",
              "    <tr>\n",
              "      <th>0</th>\n",
              "      <td>https://twitter.com/ShashiRajbhar6/status/1376...</td>\n",
              "      <td>2021-03-30 03:33:46+00:00</td>\n",
              "      <td>Support 👇\\n\\n#FarmersProtest</td>\n",
              "      <td>Support 👇\\n\\n#FarmersProtest</td>\n",
              "      <td>1376739399593910273</td>\n",
              "      <td>{'username': 'ShashiRajbhar6', 'displayname': ...</td>\n",
              "      <td>[]</td>\n",
              "      <td>[]</td>\n",
              "      <td>0</td>\n",
              "      <td>0</td>\n",
              "      <td>...</td>\n",
              "      <td>0</td>\n",
              "      <td>1376739399593910273</td>\n",
              "      <td>en</td>\n",
              "      <td>&lt;a href=\"http://twitter.com/download/android\" ...</td>\n",
              "      <td>http://twitter.com/download/android</td>\n",
              "      <td>Twitter for Android</td>\n",
              "      <td>None</td>\n",
              "      <td>NaN</td>\n",
              "      <td>None</td>\n",
              "      <td>None</td>\n",
              "    </tr>\n",
              "    <tr>\n",
              "      <th>1</th>\n",
              "      <td>https://twitter.com/kaursuk06272818/status/137...</td>\n",
              "      <td>2021-03-30 03:33:23+00:00</td>\n",
              "      <td>Supporting farmers means supporting our countr...</td>\n",
              "      <td>Supporting farmers means supporting our countr...</td>\n",
              "      <td>1376739306287427584</td>\n",
              "      <td>{'username': 'kaursuk06272818', 'displayname':...</td>\n",
              "      <td>[]</td>\n",
              "      <td>[]</td>\n",
              "      <td>0</td>\n",
              "      <td>0</td>\n",
              "      <td>...</td>\n",
              "      <td>0</td>\n",
              "      <td>1376739306287427584</td>\n",
              "      <td>en</td>\n",
              "      <td>&lt;a href=\"http://twitter.com/download/android\" ...</td>\n",
              "      <td>http://twitter.com/download/android</td>\n",
              "      <td>Twitter for Android</td>\n",
              "      <td>[{'previewUrl': 'https://pbs.twimg.com/media/E...</td>\n",
              "      <td>NaN</td>\n",
              "      <td>None</td>\n",
              "      <td>None</td>\n",
              "    </tr>\n",
              "    <tr>\n",
              "      <th>2</th>\n",
              "      <td>https://twitter.com/kaursuk06272818/status/137...</td>\n",
              "      <td>2021-03-30 03:31:00+00:00</td>\n",
              "      <td>Support farmers if you are related to food #St...</td>\n",
              "      <td>Support farmers if you are related to food #St...</td>\n",
              "      <td>1376738704128020488</td>\n",
              "      <td>{'username': 'kaursuk06272818', 'displayname':...</td>\n",
              "      <td>[]</td>\n",
              "      <td>[]</td>\n",
              "      <td>0</td>\n",
              "      <td>0</td>\n",
              "      <td>...</td>\n",
              "      <td>0</td>\n",
              "      <td>1376738704128020488</td>\n",
              "      <td>en</td>\n",
              "      <td>&lt;a href=\"http://twitter.com/download/android\" ...</td>\n",
              "      <td>http://twitter.com/download/android</td>\n",
              "      <td>Twitter for Android</td>\n",
              "      <td>[{'previewUrl': 'https://pbs.twimg.com/media/E...</td>\n",
              "      <td>NaN</td>\n",
              "      <td>None</td>\n",
              "      <td>None</td>\n",
              "    </tr>\n",
              "    <tr>\n",
              "      <th>3</th>\n",
              "      <td>https://twitter.com/SukhdevSingh_/status/13767...</td>\n",
              "      <td>2021-03-30 03:30:45+00:00</td>\n",
              "      <td>#StopHateAgainstFarmers support #FarmersProtes...</td>\n",
              "      <td>#StopHateAgainstFarmers support #FarmersProtes...</td>\n",
              "      <td>1376738640542400518</td>\n",
              "      <td>{'username': 'SukhdevSingh_', 'displayname': '...</td>\n",
              "      <td>[]</td>\n",
              "      <td>[]</td>\n",
              "      <td>0</td>\n",
              "      <td>1</td>\n",
              "      <td>...</td>\n",
              "      <td>0</td>\n",
              "      <td>1376738640542400518</td>\n",
              "      <td>en</td>\n",
              "      <td>&lt;a href=\"http://twitter.com/download/android\" ...</td>\n",
              "      <td>http://twitter.com/download/android</td>\n",
              "      <td>Twitter for Android</td>\n",
              "      <td>None</td>\n",
              "      <td>NaN</td>\n",
              "      <td>None</td>\n",
              "      <td>None</td>\n",
              "    </tr>\n",
              "    <tr>\n",
              "      <th>4</th>\n",
              "      <td>https://twitter.com/Davidmu66668113/status/137...</td>\n",
              "      <td>2021-03-30 03:30:30+00:00</td>\n",
              "      <td>You hate farmers I hate you, \\nif you love the...</td>\n",
              "      <td>You hate farmers I hate you, \\nif you love the...</td>\n",
              "      <td>1376738579171344386</td>\n",
              "      <td>{'username': 'Davidmu66668113', 'displayname':...</td>\n",
              "      <td>[]</td>\n",
              "      <td>[]</td>\n",
              "      <td>0</td>\n",
              "      <td>0</td>\n",
              "      <td>...</td>\n",
              "      <td>0</td>\n",
              "      <td>1376738579171344386</td>\n",
              "      <td>en</td>\n",
              "      <td>&lt;a href=\"http://twitter.com/download/android\" ...</td>\n",
              "      <td>http://twitter.com/download/android</td>\n",
              "      <td>Twitter for Android</td>\n",
              "      <td>None</td>\n",
              "      <td>NaN</td>\n",
              "      <td>None</td>\n",
              "      <td>None</td>\n",
              "    </tr>\n",
              "  </tbody>\n",
              "</table>\n",
              "<p>5 rows × 21 columns</p>\n",
              "</div>\n",
              "      <button class=\"colab-df-convert\" onclick=\"convertToInteractive('df-7a2d5875-8697-489b-ac94-6ca77f7944ee')\"\n",
              "              title=\"Convert this dataframe to an interactive table.\"\n",
              "              style=\"display:none;\">\n",
              "        \n",
              "  <svg xmlns=\"http://www.w3.org/2000/svg\" height=\"24px\"viewBox=\"0 0 24 24\"\n",
              "       width=\"24px\">\n",
              "    <path d=\"M0 0h24v24H0V0z\" fill=\"none\"/>\n",
              "    <path d=\"M18.56 5.44l.94 2.06.94-2.06 2.06-.94-2.06-.94-.94-2.06-.94 2.06-2.06.94zm-11 1L8.5 8.5l.94-2.06 2.06-.94-2.06-.94L8.5 2.5l-.94 2.06-2.06.94zm10 10l.94 2.06.94-2.06 2.06-.94-2.06-.94-.94-2.06-.94 2.06-2.06.94z\"/><path d=\"M17.41 7.96l-1.37-1.37c-.4-.4-.92-.59-1.43-.59-.52 0-1.04.2-1.43.59L10.3 9.45l-7.72 7.72c-.78.78-.78 2.05 0 2.83L4 21.41c.39.39.9.59 1.41.59.51 0 1.02-.2 1.41-.59l7.78-7.78 2.81-2.81c.8-.78.8-2.07 0-2.86zM5.41 20L4 18.59l7.72-7.72 1.47 1.35L5.41 20z\"/>\n",
              "  </svg>\n",
              "      </button>\n",
              "      \n",
              "  <style>\n",
              "    .colab-df-container {\n",
              "      display:flex;\n",
              "      flex-wrap:wrap;\n",
              "      gap: 12px;\n",
              "    }\n",
              "\n",
              "    .colab-df-convert {\n",
              "      background-color: #E8F0FE;\n",
              "      border: none;\n",
              "      border-radius: 50%;\n",
              "      cursor: pointer;\n",
              "      display: none;\n",
              "      fill: #1967D2;\n",
              "      height: 32px;\n",
              "      padding: 0 0 0 0;\n",
              "      width: 32px;\n",
              "    }\n",
              "\n",
              "    .colab-df-convert:hover {\n",
              "      background-color: #E2EBFA;\n",
              "      box-shadow: 0px 1px 2px rgba(60, 64, 67, 0.3), 0px 1px 3px 1px rgba(60, 64, 67, 0.15);\n",
              "      fill: #174EA6;\n",
              "    }\n",
              "\n",
              "    [theme=dark] .colab-df-convert {\n",
              "      background-color: #3B4455;\n",
              "      fill: #D2E3FC;\n",
              "    }\n",
              "\n",
              "    [theme=dark] .colab-df-convert:hover {\n",
              "      background-color: #434B5C;\n",
              "      box-shadow: 0px 1px 3px 1px rgba(0, 0, 0, 0.15);\n",
              "      filter: drop-shadow(0px 1px 2px rgba(0, 0, 0, 0.3));\n",
              "      fill: #FFFFFF;\n",
              "    }\n",
              "  </style>\n",
              "\n",
              "      <script>\n",
              "        const buttonEl =\n",
              "          document.querySelector('#df-7a2d5875-8697-489b-ac94-6ca77f7944ee button.colab-df-convert');\n",
              "        buttonEl.style.display =\n",
              "          google.colab.kernel.accessAllowed ? 'block' : 'none';\n",
              "\n",
              "        async function convertToInteractive(key) {\n",
              "          const element = document.querySelector('#df-7a2d5875-8697-489b-ac94-6ca77f7944ee');\n",
              "          const dataTable =\n",
              "            await google.colab.kernel.invokeFunction('convertToInteractive',\n",
              "                                                     [key], {});\n",
              "          if (!dataTable) return;\n",
              "\n",
              "          const docLinkHtml = 'Like what you see? Visit the ' +\n",
              "            '<a target=\"_blank\" href=https://colab.research.google.com/notebooks/data_table.ipynb>data table notebook</a>'\n",
              "            + ' to learn more about interactive tables.';\n",
              "          element.innerHTML = '';\n",
              "          dataTable['output_type'] = 'display_data';\n",
              "          await google.colab.output.renderOutput(dataTable, element);\n",
              "          const docLink = document.createElement('div');\n",
              "          docLink.innerHTML = docLinkHtml;\n",
              "          element.appendChild(docLink);\n",
              "        }\n",
              "      </script>\n",
              "    </div>\n",
              "  </div>\n",
              "  "
            ]
          },
          "metadata": {},
          "execution_count": 4
        }
      ]
    },
    {
      "cell_type": "markdown",
      "source": [
        "#### Funciones"
      ],
      "metadata": {
        "id": "itA6mlmeHiK_"
      }
    },
    {
      "cell_type": "code",
      "source": [
        "#Los top 10 tweets más retweeted.\n",
        "def top10_retweeted():\n",
        "  pass"
      ],
      "metadata": {
        "id": "2-5g6cxnXQYE"
      },
      "execution_count": null,
      "outputs": []
    },
    {
      "cell_type": "code",
      "source": [
        "#Los top 10 usuarios en función a la cantidad de tweets que emitieron.\n",
        "def top10_users():\n",
        "  pass"
      ],
      "metadata": {
        "id": "kViAhikgXVNU"
      },
      "execution_count": null,
      "outputs": []
    },
    {
      "cell_type": "code",
      "source": [
        "#Los top 10 días donde hay más tweets.\n",
        "def top10_days():\n",
        "  pass"
      ],
      "metadata": {
        "id": "iY7XypzCXbo5"
      },
      "execution_count": null,
      "outputs": []
    },
    {
      "cell_type": "code",
      "source": [
        "#Top 10 hashtags más usados.\n",
        "def top10_hashtags():\n",
        "  pass"
      ],
      "metadata": {
        "id": "sja2QCJnXkBH"
      },
      "execution_count": null,
      "outputs": []
    },
    {
      "cell_type": "code",
      "source": [
        "def main():\n",
        "  pass"
      ],
      "metadata": {
        "id": "_ahBY4wgT6i4"
      },
      "execution_count": null,
      "outputs": []
    }
  ]
}