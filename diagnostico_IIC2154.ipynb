{
  "nbformat": 4,
  "nbformat_minor": 0,
  "metadata": {
    "colab": {
      "name": "diagnostico-IIC2154.ipynb",
      "provenance": []
    },
    "kernelspec": {
      "name": "python3",
      "display_name": "Python 3"
    },
    "language_info": {
      "name": "python"
    }
  },
  "cells": [
    {
      "cell_type": "code",
      "execution_count": null,
      "metadata": {
        "id": "XSaEDqgmTIH5"
      },
      "outputs": [],
      "source": [
        "#Los top 10 tweets más retweeted.\n",
        "#Los top 10 usuarios en función a la cantidad de tweets que emitieron.\n",
        "#Los top 10 días donde hay más tweets.\n",
        "#Top 10 hashtags más usados."
      ]
    },
    {
      "cell_type": "code",
      "source": [
        "def top10_retweeted():\n",
        "  pass"
      ],
      "metadata": {
        "id": "2-5g6cxnXQYE"
      },
      "execution_count": null,
      "outputs": []
    },
    {
      "cell_type": "code",
      "source": [
        "def top10_users():\n",
        "  pass"
      ],
      "metadata": {
        "id": "kViAhikgXVNU"
      },
      "execution_count": null,
      "outputs": []
    },
    {
      "cell_type": "code",
      "source": [
        "def top10_days():\n",
        "  pass"
      ],
      "metadata": {
        "id": "iY7XypzCXbo5"
      },
      "execution_count": null,
      "outputs": []
    },
    {
      "cell_type": "code",
      "source": [
        "def top10_hashtags():\n",
        "  pass"
      ],
      "metadata": {
        "id": "sja2QCJnXkBH"
      },
      "execution_count": null,
      "outputs": []
    },
    {
      "cell_type": "code",
      "source": [
        "def main():\n",
        "  pass"
      ],
      "metadata": {
        "id": "_ahBY4wgT6i4"
      },
      "execution_count": null,
      "outputs": []
    }
  ]
}